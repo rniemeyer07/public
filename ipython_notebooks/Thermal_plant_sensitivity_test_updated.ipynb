{
 "cells": [
  {
   "cell_type": "markdown",
   "metadata": {},
   "source": [
    "# -----------------------------------------------------------------------------------------\n",
    "\n",
    "#      Thermal Sensitivity Analysis Script\n",
    "\n",
    "##   Developed by Ryan Niemeyer and Yifan Cheng - University of Washington\n",
    "\n",
    "#### Description: The purpose of this script is to take an idealized case of streamflow with a specific discharge and stream temperature, simulate input of thermal effluent (i.e. warm discharge water from power plant), and calculate the temperature for each subsequent time step (i.e. it's langrangian - although it doesn't track the parcel in space, but in time).  The equiplibrium temperature is calculated at each time step based on equation 19 in Edinger et al. (1968).  \n",
    "# -----------------------------------------------------------------------------------------"
   ]
  },
  {
   "cell_type": "code",
   "execution_count": 126,
   "metadata": {
    "collapsed": true
   },
   "outputs": [],
   "source": [
    "# To Do:\n",
    "#  1) use leopold parameters to estimate stream depth from Q\n",
    "#  2) verify your input variables (especially vapor pressure)\n",
    "#  3) refine the power plant efficiency function\n",
    "#  4) simulate based on a range of values based on previous empirical analysis"
   ]
  },
  {
   "cell_type": "markdown",
   "metadata": {},
   "source": [
    "# -----------------------------------------------------------------------------------------\n",
    "#    Upload Packages\n",
    "# -----------------------------------------------------------------------------------------"
   ]
  },
  {
   "cell_type": "code",
   "execution_count": 1,
   "metadata": {
    "collapsed": true
   },
   "outputs": [],
   "source": [
    "import sys\n",
    "import numpy as np\n",
    "import xray\n",
    "import datetime as dt\n",
    "import pandas as pd\n",
    "import matplotlib.pyplot as plt\n",
    "import os\n",
    "from math import exp, expm1\n",
    "% matplotlib inline"
   ]
  },
  {
   "cell_type": "markdown",
   "metadata": {},
   "source": [
    "# -----------------------------------------------------------------------------------------\n",
    "#    Define Constants\n",
    "# -----------------------------------------------------------------------------------------"
   ]
  },
  {
   "cell_type": "code",
   "execution_count": 2,
   "metadata": {
    "collapsed": true
   },
   "outputs": [],
   "source": [
    "evap_coeff=1.5e-9 # evaporation coefficient\n",
    "pf=0.640 # not sure what this variable is\n",
    "c_p=0.0000041484 # heat capacity of water in MegaJoules/gram*degC\n",
    "c_p_j= 4148.4 # heat capacity of water in Joules/kg*degC\n",
    "water_density = 1000 # kg/m3\n",
    "MW_to_Jsec = 1000000 # converts MW to Joules/sec\n",
    "kcal_to_J = 4184   # converts kcal to Joules"
   ]
  },
  {
   "cell_type": "markdown",
   "metadata": {},
   "source": [
    "# -----------------------------------------------------------------------------------------\n",
    "#    Define Input Variables\n",
    "# -----------------------------------------------------------------------------------------"
   ]
  },
  {
   "cell_type": "code",
   "execution_count": 3,
   "metadata": {
    "collapsed": false
   },
   "outputs": [],
   "source": [
    "#Q(m3/sec), depth(m), T_stream(deg C), dbt (deg C), vapor_pressure (mb), q_ns (kcal/m2*sec), q_na (kcal/m2*sec), \n",
    "#    wind (m/sec), power plant output (MW), hour power plant effluent is discharged (hr), time step (hr)\n",
    "#input_vars = pd.DataFrame([50,  2,  10,  12, 900,  0.02, 0.05,  2, 100, 2,  1])\n",
    "input_vars = pd.DataFrame([50,  4,  15,  20, 900,  0.02, 0.05,  2, 4000, 15, 0.1])\n",
    "#input_vars = pd.DataFrame([1000,  2,  10,  25, 900,  0.02, 0.05,  2, 0, 5, 0.05])\n",
    "input_vars = input_vars.transpose()\n",
    "input_vars.columns = ['Q','depth','T_stream_i','T_dry_bulb','vap_press','q_ns','q_na','wind','power_plant', 'power_plant_hr', 'time_step']\n",
    "hr1 = 1 # first hours\n",
    "hr2 = 60 # final hour\n",
    "a_const = 1"
   ]
  },
  {
   "cell_type": "markdown",
   "metadata": {},
   "source": [
    "# -----------------------------------------------------------------------------------------\n",
    "#    Define Functions\n",
    "# -----------------------------------------------------------------------------------------"
   ]
  },
  {
   "cell_type": "markdown",
   "metadata": {},
   "source": [
    "# ---------------------- general functions ------------------------"
   ]
  },
  {
   "cell_type": "code",
   "execution_count": 4,
   "metadata": {
    "collapsed": false
   },
   "outputs": [],
   "source": [
    "def calc_surf_energy(T_i,dbt,ea, q_ns, q_na, wind):\n",
    "    \n",
    "    \"\"\"\n",
    "    Equation to calculate surface energy, equilibrium temperature, and constant k\n",
    "    Based on River Basin Model (RBM) 'Energy.f90' subroutine. \n",
    "    \n",
    "    \"\"\"\n",
    "    \n",
    "    # do linear fit of temperature between two T_fit\n",
    "    T_fit = []\n",
    "    T_fit.append(T_i - 1.0)\n",
    "    T_fit.append(T_i + 1.0)\n",
    "    \n",
    "    q_fit = [] # q_fit empty list\n",
    "\n",
    "    \n",
    "    for i in range(0,2):\n",
    "        # calculate energy from evaporation\n",
    "        e0 = 2.1718e8*exp((-4157.0) /(T_fit[i] + 239.09)) # calc saturation vap pressure\n",
    "        lvp = 597 - (0.57 * T_fit[i])\n",
    "                        # calc latent heat of vapor\n",
    "        q_evap=1000.*lvp*evap_coeff*wind\n",
    "        if q_evap.values < 0: \n",
    "            q_evap=0\n",
    "        q_evap=q_evap*(e0-ea)\n",
    "\n",
    "        # calculate energy tranfser from convection\n",
    "        rb=pf*(dbt-T_fit[i])\n",
    "        q_conv=rb*q_evap\n",
    "\n",
    "        # calculate loss of land surface longwave radiation\n",
    "        q_ws=6.693e-2 + 1.471e-3 * T_fit[i]\n",
    "\n",
    "        # calculate all energy components (units = kcal/sec*m2) \n",
    "        #q_fit(i)=q_ns+q_na-q_ws-q_evap+q_conv\n",
    "        q_fit.append(q_ns + q_na - q_ws - q_evap + q_conv)\n",
    "        #print('q_fit: ',q_fit[i],'q_others: ',q_ns[0] , q_na[0] , (-1)*q_ws[0] , (-1)*q_evap[0] , q_conv[0])\n",
    "#\n",
    "#     q=AT+B\n",
    "#\n",
    "#     Linear fit over the range of 2.0 deg C.\n",
    "#     These results can be used to estimate the \"equilibrium\" \n",
    "#     temperature and linear rate constant.\n",
    "#\n",
    "    A = (q_fit[0] - q_fit[1]) / (T_fit[0] - T_fit[1]) #units: kcal/sec * m2 * deg C\n",
    "    q_surf=0.5*(q_fit[0]+q_fit[1]) # units: kcal/sec * m2\n",
    "    # B=(q_surf/A)-(T_fit[0]+T_fit[1])/2 # incorrect - in original Energy.f90 code\n",
    "    B = q_surf - (A *(T_fit[0]+T_fit[1])/2)\n",
    "\n",
    "    # calculate equilibrium temperature and k_coefficient               \n",
    "    T_equil = (-1)*(B/A)  # deg C\n",
    "    #k_coeff = (q_surf + T_equil)/((T_fit[0]+T_fit[1])/2 ) #kcal/sec * m2 * deg C\n",
    "    k_coeff = A\n",
    "    return q_surf, T_equil, k_coeff\n"
   ]
  },
  {
   "cell_type": "code",
   "execution_count": 5,
   "metadata": {
    "collapsed": true
   },
   "outputs": [],
   "source": [
    "def power_plant_efficiency(q_power):\n",
    "    q_power = q_power * 0.35\n",
    "    \n",
    "    return q_power"
   ]
  },
  {
   "cell_type": "markdown",
   "metadata": {},
   "source": [
    "# ---------------------- analytical solution functions ------------------------"
   ]
  },
  {
   "cell_type": "code",
   "execution_count": 138,
   "metadata": {
    "collapsed": true
   },
   "outputs": [],
   "source": [
    "def calc_stream_temperature(T_stream, T_eq, k_coeff, q_power, Q, depth, impulse_fxn2, hrx, subhrx,hr_impulse, time_stepx):\n",
    "    \n",
    "    \"\"\"\n",
    "    \n",
    "    Equation to calculate the stream temperature\n",
    "    based on the analytical solution of the Edenger et al. (1968), equation #19\n",
    "    \n",
    "    \"\"\"\n",
    "    #print(hrx, impulse_fxn2[hrx])\n",
    "    timex = (hrx + subhrx/(len(steps_per_hr)))*3600 # calculate time interval in seconds\n",
    "    hr_impulse = hr_impulse * 3600 # convert time of power plant effluent impulse in seconds\n",
    "    q_power = q_power * MW_to_Jsec # convert from MW to Joules per second\n",
    "    k_coeff = k_coeff * kcal_to_J # convert kcal/sec*m2*C to Joules/sec*m2*C\n",
    "    alpha = k_coeff/(water_density * c_p_j * depth) # alpha parameter from solution\n",
    "    beta = (q_power * a_const)/(water_density * c_p_j * Q) # calculate beta parameter\n",
    "    power_x  = impulse_fxn2[hrx]*beta*exp((-1)*alpha[0]*(timex - hr_impulse)) # calculate power plant term\n",
    "    stream_x = (T_stream - T_eq)*exp((-1)*alpha[0]*timex) + T_eq + power_x   #  calculate stream temperature at timex\n",
    "    #print(hrx, power_x,impulse_fxn2[hrx], stream_x[0] )\n",
    "    \n",
    "    return stream_x"
   ]
  },
  {
   "cell_type": "code",
   "execution_count": 123,
   "metadata": {
    "collapsed": true
   },
   "outputs": [],
   "source": [
    "def impseq2(n0,n1,n2):\n",
    "    \"\"\"\n",
    "   Returns Impulse Sequence Response\n",
    "   n0: day of impulse (power plant input)\n",
    "   n1: first day (typically 1)\n",
    "   n2: last day\n",
    "   \"\"\"\n",
    "    if (n0 < n1) or (n0 > n2) or (n1 > n2):\n",
    "        print('Arguments must satisfy n1 <= n0 <= n2')\n",
    "        return\n",
    "    n = [0] * (n2 - n1 )\n",
    "    x1 = n0 -1\n",
    "    x2 = n2\n",
    "    n[x1:x2] = np.repeat(1,x2-x1)\n",
    "    # previous to just have one '1' value: n[n0-1] = 1\n",
    "    return n"
   ]
  },
  {
   "cell_type": "markdown",
   "metadata": {},
   "source": [
    "# ---------------------- numerical solution functions ------------------------"
   ]
  },
  {
   "cell_type": "code",
   "execution_count": 185,
   "metadata": {
    "collapsed": true
   },
   "outputs": [],
   "source": [
    "def calc_change_in_stream_T(T_stream, T_eq, k_coeff, q_power, Q, depth, impulsex, hrx, subhrx,time_stepx):\n",
    "    \n",
    "    \"\"\"\n",
    "    Numerical Solution\n",
    "    Equation based on Edenger et al. (1968), equation #19\n",
    "    \n",
    "    \"\"\"\n",
    "    timex = (hrx+1+ subhrx/(len(steps_per_hr)))*3600 # calculate time interval in seconds\n",
    "    #print(timex)\n",
    "    #hrx = hrx - 1 # to match python index\n",
    "    q_power = q_power * MW_to_Jsec # convert from MW to Joules per second\n",
    "    power_x  = (q_power * impulsex)/(water_density*c_p_j*Q)\n",
    "\n",
    "    k_coeff = k_coeff * kcal_to_J # convert kcal/sec*m2*C to Joules/sec*m2*C\n",
    "    k_coeff2 = k_coeff/(water_density * c_p_j*depth) \n",
    "    k_coeff2 = k_coeff2 *  (3600*time_stepx) # calculate # of seconds in time step \n",
    "    stream_x = k_coeff2 * (T_eq - T_stream) \n",
    "    dT = stream_x + power_x\n",
    "    #dT = dT*time_stepx\n",
    "    T_new = dT + T_stream\n",
    "    #print(hrx,power_x, impulsex, T_new[0])\n",
    "    \n",
    "    return T_new"
   ]
  },
  {
   "cell_type": "code",
   "execution_count": 9,
   "metadata": {
    "collapsed": true
   },
   "outputs": [],
   "source": [
    "def impseq(n0,n1,n2):\n",
    "    \"\"\"\n",
    "   Returns Impulse Sequence Response - for Numerical Solution\n",
    "   n0: day of impulse (power plant input)\n",
    "   n1: first day (typically 1)\n",
    "   n2: last day\n",
    "   \"\"\"\n",
    "    if (n0 < n1) or (n0 > n2) or (n1 > n2):\n",
    "        print('Arguments must satisfy n1 <= n0 <= n2')\n",
    "        return\n",
    "    n = [0] * (n2 - n1 + 1)\n",
    "    n[n0-1] = 1 \n",
    "    return n"
   ]
  },
  {
   "cell_type": "markdown",
   "metadata": {},
   "source": [
    "# -----------------------------------------------------------------------------------------\n",
    "#   Loop to calculate stream temperature at each time step w/ analytical solution\n",
    "# -----------------------------------------------------------------------------------------"
   ]
  },
  {
   "cell_type": "code",
   "execution_count": 183,
   "metadata": {
    "collapsed": true
   },
   "outputs": [],
   "source": [
    "#Q(m3/sec), depth(m), T_stream(deg C), dbt (deg C), vapor_pressure (mb), q_ns (kcal/m2*sec), q_na (kcal/m2*sec), \n",
    "#    wind (m/sec), power plant output (MW), hour power plant effluent is discharged (hr), time step (hr)\n",
    "input_vars = pd.DataFrame([100,  4,  25,  30, 900,  0.02, 0.05,  2, 4000, 10, 0.25])\n",
    "input_vars = input_vars.transpose()\n",
    "input_vars.columns = ['Q','depth','T_stream_i','T_dry_bulb','vap_press','q_ns','q_na','wind','power_plant', 'power_plant_hr', 'time_step']\n",
    "hr1 = 1 # first hours\n",
    "hr2 = 30 # final hour\n",
    "a_const = 1"
   ]
  },
  {
   "cell_type": "code",
   "execution_count": 184,
   "metadata": {
    "collapsed": false
   },
   "outputs": [
    {
     "name": "stdout",
     "output_type": "stream",
     "text": [
      "0 [ 0.] 0 25.0\n",
      "0 [ 0.] 0 25.686929415\n",
      "0 [ 0.] 0 26.2368158359\n",
      "0 [ 0.] 0 26.6769994549\n",
      "1 [ 0.] 0 27.029366073\n",
      "1 [ 0.] 0 27.3114352554\n",
      "1 [ 0.] 0 27.5372313995\n",
      "1 [ 0.] 0 27.7179810236\n",
      "2 [ 0.] 0 27.8626709462\n",
      "2 [ 0.] 0 27.978495108\n",
      "2 [ 0.] 0 28.0712122524\n",
      "2 [ 0.] 0 28.1454322487\n",
      "3 [ 0.] 0 28.2048452936\n",
      "3 [ 0.] 0 28.2524053863\n",
      "3 [ 0.] 0 28.2904772005\n",
      "3 [ 0.] 0 28.320953656\n",
      "4 [ 0.] 0 28.345350033\n",
      "4 [ 0.] 0 28.3648793123\n",
      "4 [ 0.] 0 28.3805124841\n",
      "4 [ 0.] 0 28.393026825\n",
      "5 [ 0.] 0 28.4030445444\n",
      "5 [ 0.] 0 28.4110637204\n",
      "5 [ 0.] 0 28.417483064\n",
      "5 [ 0.] 0 28.4226217432\n",
      "6 [ 0.] 0 28.4267352516\n",
      "6 [ 0.] 0 28.4300281116\n",
      "6 [ 0.] 0 28.4326640433\n",
      "6 [ 0.] 0 28.4347741044\n",
      "7 [ 0.] 0 28.4364632066\n",
      "7 [ 0.] 0 28.4378153314\n",
      "7 [ 0.] 0 28.4388977063\n",
      "7 [ 0.] 0 28.4397641464\n",
      "8 [ 0.] 0 28.440457731\n",
      "8 [ 0.] 0 28.4410129449\n",
      "8 [ 0.] 0 28.4414573931\n",
      "8 [ 0.] 0 28.4418131736\n",
      "9 [ 8.21871431] 1 36.6608122819\n",
      "9 [ 6.57907391] 1 35.0213998726\n",
      "9 [ 5.26654315] 1 33.7090516132\n",
      "9 [ 4.21586338] 1 32.6585179315\n",
      "10 [ 3.3747951] 1 31.8175665998\n",
      "10 [ 2.70152065] 1 31.1443857637\n",
      "10 [ 2.16256502] 1 30.6055050686\n",
      "10 [ 1.73113148] 1 30.1741315239\n",
      "11 [ 1.3857693] 1 29.828817363\n",
      "11 [ 1.10930716] 1 29.5523936666\n",
      "11 [ 0.88799945] 1 29.3311167293\n",
      "11 [ 0.71084282] 1 29.1539847265\n",
      "12 [ 0.56902908] 1 29.0121907067\n",
      "12 [ 0.4555073] 1 28.8986847127\n",
      "12 [ 0.36463321] 1 28.8078232596\n",
      "12 [ 0.29188858] 1 28.7350887426\n",
      "13 [ 0.23365657] 1 28.6768648227\n",
      "13 [ 0.18704188] 1 28.6302566237\n",
      "13 [ 0.14972687] 1 28.5929467994\n",
      "13 [ 0.11985624] 1 28.5630803163\n",
      "14 [ 0.09594482] 1 28.5391722216\n",
      "14 [ 0.07680374] 1 28.5200338119\n",
      "14 [ 0.06148133] 1 28.5047135309\n",
      "14 [ 0.04921576] 1 28.4924496589\n",
      "15 [ 0.03939717] 1 28.4826324396\n",
      "15 [ 0.0315374] 1 28.4747737638\n",
      "15 [ 0.02524566] 1 28.4684829003\n",
      "15 [ 0.02020913] 1 28.4634470695\n",
      "16 [ 0.01617739] 1 28.459415891\n",
      "16 [ 0.01294999] 1 28.4561889361\n",
      "16 [ 0.01036646] 1 28.4536057614\n",
      "16 [ 0.00829834] 1 28.4515379322\n",
      "17 [ 0.00664281] 1 28.4498826367\n",
      "17 [ 0.00531757] 1 28.448557574\n",
      "17 [ 0.00425671] 1 28.4474968624\n",
      "17 [ 0.00340749] 1 28.4466477637\n",
      "18 [ 0.00272769] 1 28.4459680608\n",
      "18 [ 0.00218352] 1 28.4454239593\n",
      "18 [ 0.0017479] 1 28.4449884065\n",
      "18 [ 0.0013992] 1 28.4446397468\n",
      "19 [ 0.00112005] 1 28.444360645\n",
      "19 [ 0.0008966] 1 28.4441372243\n",
      "19 [ 0.00071773] 1 28.4439583762\n",
      "19 [ 0.00057454] 1 28.4438152084\n",
      "20 [ 0.00045992] 1 28.4437006027\n",
      "20 [ 0.00036817] 1 28.443608861\n",
      "20 [ 0.00029472] 1 28.4435354218\n",
      "20 [ 0.00023592] 1 28.4434766338\n",
      "21 [ 0.00018885] 1 28.443429574\n",
      "21 [ 0.00015118] 1 28.4433919028\n",
      "21 [ 0.00012102] 1 28.4433617469\n",
      "21 [  9.68743588e-05] 1 28.4433376072\n",
      "22 [  7.75478430e-05] 1 28.4433182834\n",
      "22 [  6.20769833e-05] 1 28.4433028147\n",
      "22 [  4.96925731e-05] 1 28.443290432\n",
      "22 [  3.97788631e-05] 1 28.4432805196\n",
      "23 [  3.18429466e-05] 1 28.4432725848\n",
      "23 [  2.54902521e-05] 1 28.443266233\n",
      "23 [  2.04049254e-05] 1 28.4432611484\n",
      "23 [  1.63341257e-05] 1 28.4432570782\n",
      "24 [  1.30754539e-05] 1 28.4432538199\n",
      "24 [  1.04668899e-05] 1 28.4432512117\n",
      "24 [  8.37873660e-06] 1 28.4432491239\n",
      "24 [  6.70717162e-06] 1 28.4432474525\n",
      "25 [  5.36908526e-06] 1 28.4432461146\n",
      "25 [  4.29794825e-06] 1 28.4432450437\n",
      "25 [  3.44050397e-06] 1 28.4432441863\n",
      "25 [  2.75412055e-06] 1 28.4432435\n",
      "26 [  2.20467119e-06] 1 28.4432429507\n",
      "26 [  1.76483744e-06] 1 28.4432425109\n",
      "26 [  1.41275089e-06] 1 28.4432421589\n",
      "26 [  1.13090590e-06] 1 28.443241877\n",
      "27 [  9.05289228e-07] 1 28.4432416515\n",
      "27 [  7.24683268e-07] 1 28.4432414709\n",
      "27 [  5.80108349e-07] 1 28.4432413263\n",
      "27 [  4.64376247e-07] 1 28.4432412106\n",
      "28 [  3.71732796e-07] 1 28.443241118\n",
      "28 [  2.97571792e-07] 1 28.4432410438\n",
      "28 [  2.38205970e-07] 1 28.4432409845\n",
      "28 [  1.90683679e-07] 1 28.443240937\n",
      "29 [  1.52642126e-07] 1 28.4432408989\n",
      "29 [  1.22189894e-07] 1 28.4432408685\n",
      "29 [  9.78129073e-08] 1 28.4432408441\n",
      "29 [  7.82991503e-08] 1 28.4432408246\n"
     ]
    }
   ],
   "source": [
    "# --------------------------------------------------\n",
    "#  Analytial Solution - loop through hours \n",
    "# ---------------------------------------\n",
    "\n",
    "# ----- establish time series with power plant impulse\n",
    "impulse_time_series_analytical = impseq2(int(input_vars['power_plant_hr'][0]),hr1,hr2)\n",
    "\n",
    "first_run = True\n",
    "#datax = pd.DataFrame([0,input_vars['T_stream_i'][0]])\n",
    "#T_stream_list = pd.DataFrame(datax.transpose())\n",
    "T_stream_list = pd.DataFrame()\n",
    "\n",
    "\n",
    "# ------------- calculate surface energy, T_equil., and k_coeff -------    \n",
    "q_surf, T_eq, k_coeff = calc_surf_energy(input_vars['T_stream_i'],input_vars['T_dry_bulb'],\n",
    "                input_vars['vap_press'],input_vars['q_ns'],input_vars['q_na'],\n",
    "                input_vars['wind'])\n",
    "\n",
    "# -------------------- calculate power plant efficiency ----------------\n",
    "q_power = power_plant_efficiency(input_vars['power_plant'].values)\n",
    "\n",
    "        \n",
    "for i in range(len(impulse_time_series_analytical)):\n",
    "    \n",
    "    steps_per_hr = list(np.arange(0,int(1/input_vars['time_step'])))\n",
    "\n",
    "    if len(steps_per_hr) < 1:\n",
    "        steps_per_hr =  list([1])\n",
    "    #print(steps_per_hr)\n",
    "    for j in steps_per_hr:\n",
    "\n",
    "        # ------------------- calculate stream T from power plant and T_equil ----------\n",
    "\n",
    "        T_stream_new = calc_stream_temperature(input_vars['T_stream_i'], T_eq, k_coeff, q_power, \n",
    "                            input_vars['Q'].values, input_vars['depth'], \n",
    "                            impulse_time_series_analytical, i, j,\n",
    "                            int(input_vars['power_plant_hr'][0]),input_vars['time_step'] )\n",
    "        #print(i, T_stream_new[0])\n",
    "        #if impulse_time_series_analytical[i]==1:\n",
    "                #print('q_power', q_power, 'stream_Q', input_vars['Q'].values)\n",
    "        datax = pd.DataFrame([i+ j/(len(steps_per_hr)),  T_stream_new[0]])\n",
    "        T_stream_list = T_stream_list.append(datax.transpose())\n",
    "T_stream_list.columns = ['time_step','T_stream']\n",
    "T_stream_list.index = T_stream_list.time_step\n"
   ]
  },
  {
   "cell_type": "code",
   "execution_count": null,
   "metadata": {
    "collapsed": false
   },
   "outputs": [],
   "source": []
  },
  {
   "cell_type": "code",
   "execution_count": null,
   "metadata": {
    "collapsed": false
   },
   "outputs": [],
   "source": []
  },
  {
   "cell_type": "code",
   "execution_count": null,
   "metadata": {
    "collapsed": false
   },
   "outputs": [],
   "source": []
  },
  {
   "cell_type": "markdown",
   "metadata": {
    "collapsed": true
   },
   "source": [
    "# -----------------------------------------------------------------------------------------\n",
    "#   Loop to calculate stream temperature with numerical solution\n",
    "# -----------------------------------------------------------------------------------------"
   ]
  },
  {
   "cell_type": "code",
   "execution_count": 186,
   "metadata": {
    "collapsed": false
   },
   "outputs": [
    {
     "name": "stdout",
     "output_type": "stream",
     "text": [
      "0 [ 0.] 0 25.7661892203\n",
      "0 [ 0.] 0 26.3618861734\n",
      "0 [ 0.] 0 26.8250287635\n",
      "1 [ 0.] 0 27.1851129599\n",
      "1 [ 0.] 0 27.4650712953\n",
      "1 [ 0.] 0 27.6827333597\n",
      "1 [ 0.] 0 27.8519613064\n",
      "2 [ 0.] 0 27.9835326854\n",
      "2 [ 0.] 0 28.0858268282\n",
      "2 [ 0.] 0 28.1653584995\n",
      "2 [ 0.] 0 28.2271927997\n",
      "3 [ 0.] 0 28.2752677442\n",
      "3 [ 0.] 0 28.312645062\n",
      "3 [ 0.] 0 28.3417051867\n",
      "3 [ 0.] 0 28.3642988585\n",
      "4 [ 0.] 0 28.3818649911\n",
      "4 [ 0.] 0 28.3955223114\n",
      "4 [ 0.] 0 28.4061406077\n",
      "4 [ 0.] 0 28.4143961229\n",
      "5 [ 0.] 0 28.4208146226\n",
      "5 [ 0.] 0 28.425804879\n",
      "5 [ 0.] 0 28.4296847046\n",
      "5 [ 0.] 0 28.4327011922\n",
      "6 [ 0.] 0 28.4350464516\n",
      "6 [ 0.] 0 28.4368698444\n",
      "6 [ 0.] 0 28.4382874961\n",
      "6 [ 0.] 0 28.4393896923\n",
      "7 [ 0.] 0 28.4402466281\n",
      "7 [ 0.] 0 28.4409128786\n",
      "7 [ 0.] 0 28.4414308753\n",
      "7 [ 0.] 0 28.4418336074\n",
      "8 [ 0.] 0 28.4421467237\n",
      "8 [ 0.] 0 28.4423901654\n",
      "8 [ 0.] 0 28.4425794365\n",
      "8 [ 0.] 0 28.442726591\n",
      "9 [ 3.3747951] 1 31.8176361024\n",
      "9 [ 0.] 0 31.0667663442\n",
      "9 [ 0.] 0 30.4829799695\n",
      "9 [ 0.] 0 30.0290976185\n",
      "10 [ 0.] 0 29.6762130746\n",
      "10 [ 0.] 0 29.4018523265\n",
      "10 [ 0.] 0 29.1885422755\n",
      "10 [ 0.] 0 29.022697933\n",
      "11 [ 0.] 0 28.8937572394\n",
      "11 [ 0.] 0 28.7935084023\n",
      "11 [ 0.] 0 28.7155669158\n",
      "11 [ 0.] 0 28.6549689528\n",
      "12 [ 0.] 0 28.607855236\n",
      "12 [ 0.] 0 28.5712252537\n",
      "12 [ 0.] 0 28.5427461675\n",
      "12 [ 0.] 0 28.5206042417\n",
      "13 [ 0.] 0 28.5033893327\n",
      "13 [ 0.] 0 28.4900050817\n",
      "13 [ 0.] 0 28.4795990914\n",
      "13 [ 0.] 0 28.47150864\n",
      "14 [ 0.] 0 28.4652184741\n",
      "14 [ 0.] 0 28.4603279946\n",
      "14 [ 0.] 0 28.4565257437\n",
      "14 [ 0.] 0 28.4535695688\n",
      "15 [ 0.] 0 28.4512712013\n",
      "15 [ 0.] 0 28.4494842661\n",
      "15 [ 0.] 0 28.4480949594\n",
      "15 [ 0.] 0 28.4470148009\n",
      "16 [ 0.] 0 28.4461749991\n",
      "16 [ 0.] 0 28.4455220697\n",
      "16 [ 0.] 0 28.4450144301\n",
      "16 [ 0.] 0 28.4446197504\n",
      "17 [ 0.] 0 28.4443128947\n",
      "17 [ 0.] 0 28.4440743204\n",
      "17 [ 0.] 0 28.4438888337\n",
      "17 [ 0.] 0 28.4437446214\n",
      "18 [ 0.] 0 28.4436324992\n",
      "18 [ 0.] 0 28.4435453264\n",
      "18 [ 0.] 0 28.4434775513\n",
      "18 [ 0.] 0 28.4434248575\n",
      "19 [ 0.] 0 28.4433838891\n",
      "19 [ 0.] 0 28.443352037\n",
      "19 [ 0.] 0 28.4433272726\n",
      "19 [ 0.] 0 28.4433080188\n",
      "20 [ 0.] 0 28.4432930493\n",
      "20 [ 0.] 0 28.4432814109\n",
      "20 [ 0.] 0 28.4432723622\n",
      "20 [ 0.] 0 28.443265327\n",
      "21 [ 0.] 0 28.4432598573\n",
      "21 [ 0.] 0 28.4432556048\n",
      "21 [ 0.] 0 28.4432522985\n",
      "21 [ 0.] 0 28.4432497279\n",
      "22 [ 0.] 0 28.4432477293\n",
      "22 [ 0.] 0 28.4432461754\n",
      "22 [ 0.] 0 28.4432449674\n",
      "22 [ 0.] 0 28.4432440281\n",
      "23 [ 0.] 0 28.4432432978\n",
      "23 [ 0.] 0 28.4432427301\n",
      "23 [ 0.] 0 28.4432422886\n",
      "23 [ 0.] 0 28.4432419454\n",
      "24 [ 0.] 0 28.4432416786\n",
      "24 [ 0.] 0 28.4432414711\n",
      "24 [ 0.] 0 28.4432413099\n",
      "24 [ 0.] 0 28.4432411845\n",
      "25 [ 0.] 0 28.443241087\n",
      "25 [ 0.] 0 28.4432410112\n",
      "25 [ 0.] 0 28.4432409522\n",
      "25 [ 0.] 0 28.4432409064\n",
      "26 [ 0.] 0 28.4432408708\n",
      "26 [ 0.] 0 28.4432408431\n",
      "26 [ 0.] 0 28.4432408215\n",
      "26 [ 0.] 0 28.4432408048\n",
      "27 [ 0.] 0 28.4432407918\n",
      "27 [ 0.] 0 28.4432407817\n",
      "27 [ 0.] 0 28.4432407738\n",
      "27 [ 0.] 0 28.4432407677\n",
      "28 [ 0.] 0 28.4432407629\n",
      "28 [ 0.] 0 28.4432407592\n",
      "28 [ 0.] 0 28.4432407563\n",
      "28 [ 0.] 0 28.4432407541\n",
      "29 [ 0.] 0 28.4432407524\n",
      "29 [ 0.] 0 28.443240751\n",
      "29 [ 0.] 0 28.44324075\n",
      "29 [ 0.] 0 28.4432407492\n"
     ]
    }
   ],
   "source": [
    "# --------------------------------------------------\n",
    "#  Numerical Solution - constant Teq and k_coeff - loop through hours \n",
    "# ---------------------------------------\n",
    "\n",
    "# ----- establish time series with power plant impulse\n",
    "impulse_time_series = impseq(int(input_vars['power_plant_hr'][0]),hr1,hr2)\n",
    "\n",
    "first_run = True\n",
    "impulse = False\n",
    "#datax = pd.DataFrame([0,input_vars['T_stream_i'][0]])\n",
    "#T_stream_list2b = pd.DataFrame(datax.transpose())\n",
    "T_stream_list2b = pd.DataFrame()\n",
    "\n",
    "# ------------- calculate surface energy, T_equil., and k_coeff -------   \n",
    "q_surf, T_eq, k_coeff = calc_surf_energy(input_vars['T_stream_i'],input_vars['T_dry_bulb'],\n",
    "                        input_vars['vap_press'],input_vars['q_ns'],input_vars['q_na'],input_vars['wind'])\n",
    "\n",
    "# -------------------- calculate power plant efficiency ----------------\n",
    "q_power = power_plant_efficiency(input_vars['power_plant'].values)\n",
    "\n",
    "\n",
    "for i in range(len(impulse_time_series)):\n",
    "    \n",
    "    steps_per_hr = list(np.arange(0,int(1/input_vars['time_step'])))\n",
    "\n",
    "    if len(steps_per_hr) < 1:\n",
    "        steps_per_hr =  list([1])\n",
    "    #print(steps_per_hr)\n",
    "    for j in steps_per_hr:\n",
    "        \n",
    "        # -------------- establish initial stream temperature ------------\n",
    "        if first_run:\n",
    "            T_stream_new = input_vars['T_stream_i'][0]\n",
    "            first_run = False\n",
    "            datax = pd.DataFrame([i +  j/(len(steps_per_hr)),  T_stream_new])\n",
    "            T_stream_list2b = T_stream_list2b.append(datax.transpose())\n",
    "            continue\n",
    "             \n",
    "\n",
    "        # ------------ use previous temperature for stream T ----------\n",
    "        else:\n",
    "\n",
    "            T_stream_x = T_stream_new\n",
    "        \n",
    "        # ------------- calculate surface energy, T_equil., and k_coeff -------    \n",
    "       \n",
    "        # ------------------- calculate change in stream T from power plant and T_equil ----------\n",
    "        #print('i',i, impulse_time_series[i] == 1, impulse)\n",
    "        if impulse == False and impulse_time_series[i] == 1:\n",
    "            #print('q_power', q_power, 'stream_Q', input_vars['Q'].values)\n",
    "            T_stream_new = calc_change_in_stream_T(T_stream_x, T_eq, k_coeff, q_power, \n",
    "                input_vars['Q'].values, input_vars['depth'], impulse_time_series[i], i,j,input_vars['time_step'] )\n",
    "            impulse = True\n",
    "        else:\n",
    "            T_stream_new = calc_change_in_stream_T(T_stream_x, T_eq, k_coeff, q_power, \n",
    "                input_vars['Q'].values, input_vars['depth'], 0, i,j,input_vars['time_step'] )\n",
    "        #print(i, T_stream_new[0])\n",
    "\n",
    "        datax = pd.DataFrame([i +  j/(len(steps_per_hr)),  T_stream_new[0]])\n",
    "        T_stream_list2b = T_stream_list2b.append(datax.transpose())\n",
    "T_stream_list2b.columns = ['time_step','T_stream']\n",
    "T_stream_list2b.index = T_stream_list2b.time_step     "
   ]
  },
  {
   "cell_type": "code",
   "execution_count": 187,
   "metadata": {
    "collapsed": false
   },
   "outputs": [
    {
     "data": {
      "text/html": [
       "<div>\n",
       "<table border=\"1\" class=\"dataframe\">\n",
       "  <thead>\n",
       "    <tr style=\"text-align: right;\">\n",
       "      <th></th>\n",
       "      <th>time_step</th>\n",
       "      <th>T_stream</th>\n",
       "    </tr>\n",
       "    <tr>\n",
       "      <th>time_step</th>\n",
       "      <th></th>\n",
       "      <th></th>\n",
       "    </tr>\n",
       "  </thead>\n",
       "  <tbody>\n",
       "    <tr>\n",
       "      <th>0.00</th>\n",
       "      <td>0.00</td>\n",
       "      <td>25.000000</td>\n",
       "    </tr>\n",
       "    <tr>\n",
       "      <th>0.25</th>\n",
       "      <td>0.25</td>\n",
       "      <td>25.766189</td>\n",
       "    </tr>\n",
       "    <tr>\n",
       "      <th>0.50</th>\n",
       "      <td>0.50</td>\n",
       "      <td>26.361886</td>\n",
       "    </tr>\n",
       "    <tr>\n",
       "      <th>0.75</th>\n",
       "      <td>0.75</td>\n",
       "      <td>26.825029</td>\n",
       "    </tr>\n",
       "    <tr>\n",
       "      <th>1.00</th>\n",
       "      <td>1.00</td>\n",
       "      <td>27.185113</td>\n",
       "    </tr>\n",
       "  </tbody>\n",
       "</table>\n",
       "</div>"
      ],
      "text/plain": [
       "           time_step   T_stream\n",
       "time_step                      \n",
       "0.00            0.00  25.000000\n",
       "0.25            0.25  25.766189\n",
       "0.50            0.50  26.361886\n",
       "0.75            0.75  26.825029\n",
       "1.00            1.00  27.185113"
      ]
     },
     "execution_count": 187,
     "metadata": {},
     "output_type": "execute_result"
    }
   ],
   "source": [
    "T_stream_list2b.head()"
   ]
  },
  {
   "cell_type": "code",
   "execution_count": 181,
   "metadata": {
    "collapsed": true
   },
   "outputs": [],
   "source": [
    "#T_stream_list2_1 = T_stream_list2b\n",
    "#T_stream_list2_0_5 = T_stream_list2b\n",
    "#T_stream_list2_0_1 = T_stream_list2b\n",
    "T_stream_list2_0_01 = T_stream_list2b"
   ]
  },
  {
   "cell_type": "code",
   "execution_count": 182,
   "metadata": {
    "collapsed": false
   },
   "outputs": [
    {
     "data": {
      "text/plain": [
       "(0, 20)"
      ]
     },
     "execution_count": 182,
     "metadata": {},
     "output_type": "execute_result"
    },
    {
     "data": {
      "image/png": "[encoded data removed]",
      "text/plain": [
       "<matplotlib.figure.Figure at 0x2b7e2fcee208>"
      ]
     },
     "metadata": {},
     "output_type": "display_data"
    }
   ],
   "source": [
    "plt.plot(T_stream_list.T_stream, color='blue', label='analytical solution')\n",
    "plt.axhline(y=28.4, color='black')  # T_equilibrium temperature\n",
    "plt.axhline(y=29.4, color='black', linestyle='dashed', linewidth=1)  # T_equilibrium temperature\n",
    "plt.axvline(x=1, color='black')  # T_equilibrium temperature\n",
    "plt.plot(T_stream_list2b.T_stream, linestyle='dashdot', color='orange', label='numerical solution')\n",
    "plt.grid()\n",
    "plt.legend()\n",
    "\n",
    "plt.xlim([0,20])"
   ]
  },
  {
   "cell_type": "code",
   "execution_count": 114,
   "metadata": {
    "collapsed": true
   },
   "outputs": [
    {
     "data": {
      "text/plain": [
       "(0, 20)"
      ]
     },
     "execution_count": 114,
     "metadata": {},
     "output_type": "execute_result"
    },
    {
     "data": {
      "image/png": "[encoded data removed]",
      "text/plain": [
       "<matplotlib.figure.Figure at 0x2b7e2ff190f0>"
      ]
     },
     "metadata": {},
     "output_type": "display_data"
    }
   ],
   "source": [
    "plt.plot(T_stream_list.T_stream, color='blue', label='analytical solution')\n",
    "plt.axhline(y=28.4, color='black')  # T_equilibrium temperature\n",
    "plt.axhline(y=29.4, color='black', linestyle='dashed', linewidth=1)  # T_equilibrium temperature\n",
    "plt.axvline(x=1, color='black')  # T_equilibrium temperature\n",
    "plt.plot(T_stream_list2b.T_stream, linestyle='dashdot', color='orange', label='numerical solution, time step = 1')\n",
    "plt.grid()\n",
    "plt.legend()\n",
    "\n",
    "plt.xlim([0,20])"
   ]
  },
  {
   "cell_type": "code",
   "execution_count": 175,
   "metadata": {
    "collapsed": false
   },
   "outputs": [
    {
     "data": {
      "text/plain": [
       "(0, 20)"
      ]
     },
     "execution_count": 175,
     "metadata": {},
     "output_type": "execute_result"
    },
    {
     "data": {
      "image/png": "[encoded data removed]",
      "text/plain": [
       "<matplotlib.figure.Figure at 0x2b7e386b0b38>"
      ]
     },
     "metadata": {},
     "output_type": "display_data"
    }
   ],
   "source": [
    "plt.plot(T_stream_list.T_stream, color='blue', label='analytical solution')\n",
    "plt.axhline(y=28.4, color='black')  # T_equilibrium temperature\n",
    "plt.axhline(y=29.4, color='black', linestyle='dashed', linewidth=1)  # T_equilibrium temperature\n",
    "plt.axvline(x=1, color='black')  # T_equilibrium temperature\n",
    "plt.plot(T_stream_list2b.T_stream, linestyle='dashdot', color='orange', label='numerical solution, time step = 0.1')\n",
    "plt.grid()\n",
    "plt.legend()\n",
    "\n",
    "plt.xlim([0,20])"
   ]
  },
  {
   "cell_type": "code",
   "execution_count": 52,
   "metadata": {
    "collapsed": false
   },
   "outputs": [
    {
     "data": {
      "text/plain": [
       "(0, 20)"
      ]
     },
     "execution_count": 52,
     "metadata": {},
     "output_type": "execute_result"
    },
    {
     "data": {
      "image/png": "[encoded data removed]",
      "text/plain": [
       "<matplotlib.figure.Figure at 0x2b7e2fee0668>"
      ]
     },
     "metadata": {},
     "output_type": "display_data"
    }
   ],
   "source": [
    "plt.plot(T_stream_list.T_stream, color='blue', label='analytical solution')\n",
    "plt.axhline(y=28.4, color='black')  # T_equilibrium temperature\n",
    "plt.axhline(y=29.4, color='black', linestyle='dashed', linewidth=1)  # T_equilibrium temperature\n",
    "plt.axvline(x=1, color='black')  # T_equilibrium temperature\n",
    "plt.plot(T_stream_list2b.T_stream, linestyle='dashdot', color='orange', label='numerical solution, time step = 0.1')\n",
    "plt.grid()\n",
    "plt.legend()\n",
    "\n",
    "plt.xlim([0,20])"
   ]
  },
  {
   "cell_type": "code",
   "execution_count": 60,
   "metadata": {
    "collapsed": false
   },
   "outputs": [
    {
     "data": {
      "text/plain": [
       "(0, 20)"
      ]
     },
     "execution_count": 60,
     "metadata": {},
     "output_type": "execute_result"
    },
    {
     "data": {
      "image/png": "[encoded data removed]",
      "text/plain": [
       "<matplotlib.figure.Figure at 0x2b7e3880feb8>"
      ]
     },
     "metadata": {},
     "output_type": "display_data"
    }
   ],
   "source": [
    "plt.plot(T_stream_list.T_stream, color='blue', label='analytical solution')\n",
    "plt.axhline(y=28.4, color='black')  # T_equilibrium temperature\n",
    "plt.axhline(y=29.4, color='black', linestyle='dashed', linewidth=1)  # T_equilibrium temperature\n",
    "plt.axvline(x=1, color='black')  # T_equilibrium temperature\n",
    "plt.plot(T_stream_list2b.T_stream, linestyle='dashdot', color='orange', label='numerical solution, time step = 0.1')\n",
    "plt.grid()\n",
    "plt.legend()\n",
    "\n",
    "plt.xlim([0,20])"
   ]
  },
  {
   "cell_type": "code",
   "execution_count": 45,
   "metadata": {
    "collapsed": false
   },
   "outputs": [
    {
     "data": {
      "text/plain": [
       "(28, 35)"
      ]
     },
     "execution_count": 45,
     "metadata": {},
     "output_type": "execute_result"
    },
    {
     "data": {
      "image/png": "[encoded data removed]",
      "text/plain": [
       "<matplotlib.figure.Figure at 0x2b7e38644908>"
      ]
     },
     "metadata": {},
     "output_type": "display_data"
    }
   ],
   "source": [
    "plt.plot(T_stream_list.T_stream, color='blue', label='analytical solution')\n",
    "plt.axhline(y=28.4, color='black')  # T_equilibrium temperature\n",
    "plt.axhline(y=29.4, color='black', linestyle='dashed', linewidth=1)  # T_equilibrium temperature\n",
    "plt.axvline(x=1, color='black')  # T_equilibrium temperature\n",
    "plt.plot(T_stream_list2b.T_stream, linestyle='dashdot', color='orange', label='numerical solution, time step = 0.1')\n",
    "plt.grid()\n",
    "plt.legend()\n",
    "\n",
    "plt.xlim([8,13])\n",
    "plt.ylim([28,35])"
   ]
  },
  {
   "cell_type": "code",
   "execution_count": 207,
   "metadata": {
    "collapsed": false
   },
   "outputs": [
    {
     "data": {
      "text/plain": [
       "(0, 20)"
      ]
     },
     "execution_count": 207,
     "metadata": {},
     "output_type": "execute_result"
    },
    {
     "data": {
      "image/png": "[encoded data removed]",
      "text/plain": [
       "<matplotlib.figure.Figure at 0x2b48fd682208>"
      ]
     },
     "metadata": {},
     "output_type": "display_data"
    }
   ],
   "source": [
    "# \n",
    "plt.plot(T_stream_list.T_stream, color='blue', label='analytical solution')\n",
    "plt.axhline(y=28.4, color='black')  # T_equilibrium temperature\n",
    "plt.plot(T_stream_list2b.T_stream, linestyle='dashdot', color='orange', label='numerical solution, time step = 0.1')\n",
    "\n",
    "\n",
    "plt.axvline(x=1, color='black')  # T_equilibrium temperature\n",
    "#plt.plot(T_stream_list2_1.T_stream, linestyle='dashed', color='green', label='numerical solution, tstep=1')\n",
    "#plt.plot(T_stream_list2_1.T_stream, marker='o', linestyle='--', color='green', label='numerical solution, tstep=1')\n",
    "#plt.plot(T_stream_list2_0_2.T_stream, marker='o', linestyle='--', color='orange', label='numerical solution, tstep=0.2')\n",
    "\n",
    "#plt.plot(T_stream_list2_0_5.T_stream, marker='o', linestyle='--', color='purple', label='numerical solution  - const Teq,k')\n",
    "#plt.plot(T_stream_list2_0_1.T_stream, linestyle='--', color='red', label='numerical solution, time step = 0.1')\n",
    "#plt.plot(T_stream_list2_0_01.T_stream, linestyle='dashdot', color='orange', label='numerical solution, time step = 0.1')\n",
    "plt.grid()\n",
    "plt.legend()\n",
    "\n",
    "plt.xlim([0,20])\n",
    "#plt.ylim([24,23])"
   ]
  },
  {
   "cell_type": "markdown",
   "metadata": {
    "collapsed": true
   },
   "source": [
    "# -----------------------------------------------------------------------------------------\n",
    "#   Loop to loop through different types of power plants\n",
    "# -----------------------------------------------------------------------------------------"
   ]
  },
  {
   "cell_type": "code",
   "execution_count": 12,
   "metadata": {
    "collapsed": false
   },
   "outputs": [],
   "source": [
    "# --------------------------------------------------\n",
    "#  loop through hours  - use q_surf\n",
    "# ---------------------------------------\n",
    "#depth(m), T_stream(deg C), dbt (deg C), vapor_pressure (mb), q_ns (kcal/m2*sec), q_na (kcal/m2*sec), \n",
    "#    wind (m/sec), hour power plant effluent is discharged (hr), time step (hr)\n",
    "\n",
    "input_vars_loop = pd.DataFrame([4,  18.5,  20, 900,  0.02, 0.05,  2, 30, 0.1])\n",
    "input_vars = input_vars.transpose()\n",
    "#input_vars.columns = ['depth','T_stream_i','T_dry_bulb','vap_press','q_ns','q_na','wind','power_plant_hr', 'time_step']\n",
    "hr1 = 1 # first hours\n",
    "hr2 = 60 # final hour\n",
    "\n",
    "input_vars = pd.DataFrame([50,  4,  18.5,  20, 900,  0.02, 0.05,  2, 0, 30, 0.1])\n",
    "#input_vars = pd.DataFrame([1000,  2,  10,  25, 900,  0.02, 0.05,  2, 0, 5, 0.05])\n",
    "input_vars = input_vars.transpose()\n",
    "input_vars.columns = ['Q','depth','T_stream_i','T_dry_bulb','vap_press','q_ns','q_na','wind','power_plant', 'power_plant_hr', 'time_step']\n",
    "hr1 = 1 # first hours\n",
    "hr2 = 60 # final hour\n",
    "\n",
    "\n",
    "power_plant_range = [1000,2000,3000,4000] # power plant capacity (MW)\n",
    "Q_range = [10,100,1000,10000] # discharge range (m3/sec)\n",
    "Q_range = [50,500,5000,50000] # discharge range (m3/sec)\n",
    "\n",
    "T_stream_tot = []\n",
    "scenarios_tot_Q = []\n",
    "scenarios_tot_P = []\n",
    "# ----- establish time series with power plant impulse\n",
    "impulse_time_series = impseq(int(input_vars['power_plant_hr'][0]),hr1,hr2)\n",
    "\n",
    "for power_x in power_plant_range:\n",
    "    \n",
    "    for flow_x in Q_range:\n",
    "        \n",
    "        first_run = True\n",
    "        T_stream_list2 = []\n",
    "\n",
    "        for i in range(len(impulse_time_series)):\n",
    "\n",
    "            steps_per_hr = list(range(0,int(1/input_vars['time_step'])))\n",
    "\n",
    "            #print(len(steps_per_hr))\n",
    "            if len(steps_per_hr) < 1:\n",
    "                steps_per_hr =  list([1])\n",
    "            #print(steps_per_hr)\n",
    "            for j in steps_per_hr:\n",
    "\n",
    "                # -------------- establish initial stream temperature ------------\n",
    "                if first_run:\n",
    "                    T_stream_x = input_vars['T_stream_i']\n",
    "                    first_run = False\n",
    "\n",
    "                # ------------ use previous temperature for stream T ----------\n",
    "                else:\n",
    "                    T_stream_x = T_stream_new\n",
    "\n",
    "                # ------------- calculate surface energy, T_equil., and k_coeff -------    \n",
    "                q_surf, T_eq, k_coeff = calc_surf_energy(T_stream_x,input_vars['T_dry_bulb'],input_vars['vap_press'],\n",
    "                                                     input_vars['q_ns'],input_vars['q_na'],input_vars['wind'])\n",
    "\n",
    "                # -------------------- calculate power plant efficiency ----------------\n",
    "                q_power = power_plant_efficiency(power_x)\n",
    "\n",
    "                # ------------------- calculate change in stream T from power plant and T_equil ----------\n",
    "                T_stream_new = calc_power_energy2(T_stream_x, q_surf, k_coeff, q_power, \n",
    "                                             flow_x, input_vars['depth'], impulse_time_series, i,input_vars['time_step'] )\n",
    "                T_stream_list2.append(T_stream_new)\n",
    "                \n",
    "                \n",
    "        scenarios_tot_Q.append(flow_x)\n",
    "        scenarios_tot_P.append(power_x)\n",
    "        T_stream_tot.append(T_stream_list2)\n",
    "    "
   ]
  },
  {
   "cell_type": "code",
   "execution_count": 191,
   "metadata": {
    "collapsed": false
   },
   "outputs": [
    {
     "data": {
      "text/plain": [
       "[100, 1000]"
      ]
     },
     "execution_count": 191,
     "metadata": {},
     "output_type": "execute_result"
    }
   ],
   "source": []
  },
  {
   "cell_type": "markdown",
   "metadata": {},
   "source": [
    "# -----------------------------------------------------------------------------------------\n",
    "#   Plots\n",
    "# -----------------------------------------------------------------------------------------"
   ]
  },
  {
   "cell_type": "code",
   "execution_count": 15,
   "metadata": {
    "collapsed": true
   },
   "outputs": [],
   "source": [
    "#T_stream_list_1 = T_stream_list\n",
    "#T_stream_list_0_5 = T_stream_list\n",
    "T_stream_list_0_1 = T_stream_list\n",
    "#T_stream_list_0_01 = T_stream_list"
   ]
  },
  {
   "cell_type": "code",
   "execution_count": 19,
   "metadata": {
    "collapsed": true
   },
   "outputs": [],
   "source": [
    "T_stream_list_25 = T_stream_list\n",
    "#T_stream_list_15 = T_stream_list\n"
   ]
  },
  {
   "cell_type": "code",
   "execution_count": 315,
   "metadata": {
    "collapsed": false
   },
   "outputs": [
    {
     "data": {
      "text/plain": [
       "(14.5, 26)"
      ]
     },
     "execution_count": 315,
     "metadata": {},
     "output_type": "execute_result"
    },
    {
     "data": {
      "image/png": "[encoded data removed]",
      "text/plain": [
       "<matplotlib.figure.Figure at 0x2b1340a28630>"
      ]
     },
     "metadata": {},
     "output_type": "display_data"
    }
   ],
   "source": [
    "plt.plot(T_stream_list_1.T_stream, color='blue')\n",
    "plt.axhline(y=18.4, color='black')\n",
    "plt.plot(T_stream_list_0_5.T_stream, color='green')\n",
    "plt.plot(T_stream_list_0_1.T_stream, color='orange')\n",
    "#plt.plot(T_stream_list_0_01.T_stream, color='red')\n",
    "plt.grid()\n",
    "\n",
    "plt.xlim([0,20])\n",
    "plt.ylim([14.5,26])"
   ]
  },
  {
   "cell_type": "code",
   "execution_count": 27,
   "metadata": {
    "collapsed": false
   },
   "outputs": [
    {
     "data": {
      "text/plain": [
       "(14.5, 33)"
      ]
     },
     "execution_count": 27,
     "metadata": {},
     "output_type": "execute_result"
    },
    {
     "data": {
      "image/png": "[encoded data removed]",
      "text/plain": [
       "<matplotlib.figure.Figure at 0x2b5b8a5600b8>"
      ]
     },
     "metadata": {},
     "output_type": "display_data"
    }
   ],
   "source": [
    "plt.plot(T_stream_list_15.T_stream, color='blue')\n",
    "#plt.axhline(y=18.4, color='black')\n",
    "plt.plot(T_stream_list_25.T_stream, color='red')\n",
    "plt.grid()\n",
    "\n",
    "plt.xlim([-0.2,20])\n",
    "plt.ylim([14.5,33])"
   ]
  },
  {
   "cell_type": "code",
   "execution_count": 28,
   "metadata": {
    "collapsed": false
   },
   "outputs": [
    {
     "data": {
      "text/plain": [
       "21.6"
      ]
     },
     "execution_count": 28,
     "metadata": {},
     "output_type": "execute_result"
    }
   ],
   "source": [
    "2 * 3600 * 3/1000"
   ]
  },
  {
   "cell_type": "code",
   "execution_count": 176,
   "metadata": {
    "collapsed": false
   },
   "outputs": [
    {
     "data": {
      "text/plain": [
       "<matplotlib.text.Text at 0x2af00bd4cb70>"
      ]
     },
     "execution_count": 176,
     "metadata": {},
     "output_type": "execute_result"
    },
    {
     "data": {
      "image/png": "[encoded data removed]",
      "text/plain": [
       "<matplotlib.figure.Figure at 0x2af00bcf54a8>"
      ]
     },
     "metadata": {},
     "output_type": "display_data"
    }
   ],
   "source": [
    "# -------------------------\n",
    "#  Plot to experiment\n",
    "# ------------------------\n",
    "time_len = np.arange(0,hr2,input_vars['time_step'][0])\n",
    "plt.title('time step = 0.1 hour')\n",
    "plt.plot(time_len,T_stream_list,linewidth=2, label='T_equil')\n",
    "plt.plot(time_len,T_stream_list2, linestyle='dashdot', color='blue', label='q_surf (i.e. no T_equil)')\n",
    "plt.axhline(y=20, color='black')\n",
    "plt.xlabel('time (hr)')\n",
    "plt.ylabel('stream T (deg C)')\n",
    "plt.legend(loc=4)\n",
    "plt.text(0.2,19.8,'dry bulb temperature')"
   ]
  },
  {
   "cell_type": "code",
   "execution_count": 208,
   "metadata": {
    "collapsed": false
   },
   "outputs": [
    {
     "data": {
      "text/plain": [
       "15"
      ]
     },
     "execution_count": 208,
     "metadata": {},
     "output_type": "execute_result"
    }
   ],
   "source": [
    "i"
   ]
  },
  {
   "cell_type": "code",
   "execution_count": 16,
   "metadata": {
    "collapsed": false
   },
   "outputs": [],
   "source": [
    "delta_T = []\n",
    "for i in range(0,len(T_stream_tot)):\n",
    "    delta_T.append(np.max(T_stream_tot[i])-np.min(T_stream_tot[i]))"
   ]
  },
  {
   "cell_type": "code",
   "execution_count": 238,
   "metadata": {
    "collapsed": false
   },
   "outputs": [
    {
     "name": "stdout",
     "output_type": "stream",
     "text": [
      "8.10902012804\n",
      "0.810292753853\n",
      "0.0808400164554\n",
      "0.0345903334188\n",
      "16.2296900857\n",
      "1.62087849621\n",
      "0.161886897746\n",
      "0.0339956108757\n",
      "24.3659272228\n",
      "2.43155374274\n",
      "0.242934629082\n",
      "0.033400865206\n",
      "32.5234240576\n",
      "3.24232112186\n",
      "0.323983212878\n",
      "0.0329536562717\n"
     ]
    },
    {
     "name": "stderr",
     "output_type": "stream",
     "text": [
      "/home/rniemeyr/anaconda/envs/my_env/lib/python3.4/site-packages/matplotlib/axes/_axes.py:545: UserWarning: No labelled objects found. Use label='...' kwarg on individual plots.\n",
      "  warnings.warn(\"No labelled objects found. \"\n"
     ]
    },
    {
     "data": {
      "image/png": "[encoded data removed]",
      "text/plain": [
       "<matplotlib.figure.Figure at 0x2af015298940>"
      ]
     },
     "metadata": {},
     "output_type": "display_data"
    }
   ],
   "source": [
    "# -------------------------\n",
    "#  Plot to experiment\n",
    "# ------------------------\n",
    "\n",
    "\n",
    "time_len = np.arange(0,hr2,input_vars['time_step'][0])\n",
    "plt.title('time step = 0.1 hour')\n",
    "for i in range(0,len(T_stream_tot)):\n",
    "    #delta_T = np.max(T_stream_tot[i])-np.min(T_stream_tot[i])\n",
    "    plt.scatter(scenarios_tot[i][0],scenarios_tot[i][1],linewidth=2, c=delta_T[i])\n",
    "    print(delta_T[i])\n",
    "    \n",
    "\n",
    "plt.xlabel('streamflow (m3/sec)')\n",
    "plt.ylabel('power plant discharge (MW)')\n",
    "plt.legend(loc=4)\n"
   ]
  },
  {
   "cell_type": "code",
   "execution_count": 295,
   "metadata": {
    "collapsed": false
   },
   "outputs": [],
   "source": [
    "delta_T = []\n",
    "for i in range(0,len(T_stream_tot)):\n",
    "    delta_T.append(np.max(T_stream_tot[i])-np.min(T_stream_tot[i]))"
   ]
  },
  {
   "cell_type": "code",
   "execution_count": 300,
   "metadata": {
    "collapsed": false
   },
   "outputs": [
    {
     "data": {
      "text/plain": [
       "[50,\n",
       " 500,\n",
       " 5000,\n",
       " 50000,\n",
       " 50,\n",
       " 500,\n",
       " 5000,\n",
       " 50000,\n",
       " 50,\n",
       " 500,\n",
       " 5000,\n",
       " 50000,\n",
       " 50,\n",
       " 500,\n",
       " 5000,\n",
       " 50000]"
      ]
     },
     "execution_count": 300,
     "metadata": {},
     "output_type": "execute_result"
    }
   ],
   "source": [
    "scenarios_tot_Q"
   ]
  },
  {
   "cell_type": "code",
   "execution_count": 22,
   "metadata": {
    "collapsed": false
   },
   "outputs": [
    {
     "data": {
      "text/plain": [
       "[1.6208784962073004,\n",
       " 0.16188689774612897,\n",
       " 0.033995610875720672,\n",
       " 0.035066094806150971,\n",
       " 3.2423211218642223,\n",
       " 0.32398321287848475,\n",
       " 0.032953656271732967,\n",
       " 0.034947155846342781,\n",
       " 4.8641432860780611,\n",
       " 0.48608294757063675,\n",
       " 0.048421501411883838,\n",
       " 0.034828215961876907,\n",
       " 6.4863680347934114,\n",
       " 0.64818612134068587,\n",
       " 0.06463074199051988,\n",
       " 0.034709275152696506]"
      ]
     },
     "execution_count": 22,
     "metadata": {},
     "output_type": "execute_result"
    }
   ],
   "source": [
    "delta_T"
   ]
  },
  {
   "cell_type": "code",
   "execution_count": 297,
   "metadata": {
    "collapsed": false
   },
   "outputs": [
    {
     "ename": "AttributeError",
     "evalue": "'module' object has no attribute 'set_xscale'",
     "output_type": "error",
     "traceback": [
      "\u001b[0;31m---------------------------------------------------------------------------\u001b[0m",
      "\u001b[0;31mAttributeError\u001b[0m                            Traceback (most recent call last)",
      "\u001b[0;32m<ipython-input-297-0fc5e0efbd4c>\u001b[0m in \u001b[0;36m<module>\u001b[0;34m()\u001b[0m\n\u001b[1;32m      8\u001b[0m \u001b[0mplt\u001b[0m\u001b[0;34m.\u001b[0m\u001b[0mscatter\u001b[0m\u001b[0;34m(\u001b[0m\u001b[0mscenarios_tot_Q\u001b[0m\u001b[0;34m,\u001b[0m\u001b[0mscenarios_tot_P\u001b[0m\u001b[0;34m,\u001b[0m\u001b[0mlinewidth\u001b[0m\u001b[0;34m=\u001b[0m\u001b[0;36m2\u001b[0m\u001b[0;34m,\u001b[0m \u001b[0mc\u001b[0m\u001b[0;34m=\u001b[0m\u001b[0mdelta_T\u001b[0m\u001b[0;34m[\u001b[0m\u001b[0;34m:\u001b[0m\u001b[0;34m]\u001b[0m\u001b[0;34m)\u001b[0m\u001b[0;34m\u001b[0m\u001b[0m\n\u001b[1;32m      9\u001b[0m \u001b[0;34m\u001b[0m\u001b[0m\n\u001b[0;32m---> 10\u001b[0;31m \u001b[0mplt\u001b[0m\u001b[0;34m.\u001b[0m\u001b[0mset_xscale\u001b[0m\u001b[0;34m(\u001b[0m\u001b[0;34m'log'\u001b[0m\u001b[0;34m)\u001b[0m\u001b[0;34m\u001b[0m\u001b[0m\n\u001b[0m\u001b[1;32m     11\u001b[0m \u001b[0;34m\u001b[0m\u001b[0m\n\u001b[1;32m     12\u001b[0m \u001b[0mplt\u001b[0m\u001b[0;34m.\u001b[0m\u001b[0mxlabel\u001b[0m\u001b[0;34m(\u001b[0m\u001b[0;34m'streamflow (m3/sec)'\u001b[0m\u001b[0;34m)\u001b[0m\u001b[0;34m\u001b[0m\u001b[0m\n",
      "\u001b[0;31mAttributeError\u001b[0m: 'module' object has no attribute 'set_xscale'"
     ]
    },
    {
     "data": {
      "image/png": "[encoded data removed]",
      "text/plain": [
       "<matplotlib.figure.Figure at 0x2af0157f1c18>"
      ]
     },
     "metadata": {},
     "output_type": "display_data"
    }
   ],
   "source": [
    "# -------------------------\n",
    "#  Plot to experiment\n",
    "# ------------------------\n",
    "\n",
    "\n",
    "time_len = np.arange(0,hr2,input_vars['time_step'][0])\n",
    "plt.title('time step = 0.1 hour')\n",
    "plt.scatter(scenarios_tot_Q,scenarios_tot_P,linewidth=2, c=delta_T[:])\n",
    "\n",
    "plt.set_xscale('log')\n",
    "\n",
    "plt.xlabel('streamflow (m3/sec)')\n",
    "plt.ylabel('power plant discharge (MW)')\n",
    "plt.legend(loc=4)\n"
   ]
  },
  {
   "cell_type": "code",
   "execution_count": 14,
   "metadata": {
    "collapsed": true
   },
   "outputs": [],
   "source": [
    "from pylab import *\n",
    "import matplotlib.pyplot  as pyplot"
   ]
  },
  {
   "cell_type": "code",
   "execution_count": 21,
   "metadata": {
    "collapsed": false
   },
   "outputs": [
    {
     "data": {
      "text/plain": [
       "(100, 4900)"
      ]
     },
     "execution_count": 21,
     "metadata": {},
     "output_type": "execute_result"
    },
    {
     "data": {
      "image/png": "[encoded data removed]",
      "text/plain": [
       "<matplotlib.figure.Figure at 0x2b186f8e8c18>"
      ]
     },
     "metadata": {},
     "output_type": "display_data"
    }
   ],
   "source": [
    "fig = pyplot.figure(figsize=[5,5])\n",
    "ax = fig.add_subplot(1,1,1)\n",
    "\n",
    "line = ax.scatter(scenarios_tot_Q,scenarios_tot_P,marker=\"s\", s=2000, c=delta_T[:])\n",
    "#plt.xlim([10,10000])\n",
    "ax.set_xlabel('streamflow (m3/sec)')\n",
    "ax.set_ylabel('power plant discharge (MW)')\n",
    "ax.set_xscale('log')\n",
    "ax.set_xlim(5,400000)\n",
    "ax.set_ylim(100,4900)"
   ]
  },
  {
   "cell_type": "code",
   "execution_count": null,
   "metadata": {
    "collapsed": false
   },
   "outputs": [],
   "source": []
  },
  {
   "cell_type": "code",
   "execution_count": 90,
   "metadata": {
    "collapsed": false
   },
   "outputs": [
    {
     "data": {
      "text/plain": [
       "<matplotlib.text.Text at 0x2b5668734470>"
      ]
     },
     "execution_count": 90,
     "metadata": {},
     "output_type": "execute_result"
    },
    {
     "data": {
      "image/png": "[encoded data removed]",
      "text/plain": [
       "<matplotlib.figure.Figure at 0x2b56686d6a58>"
      ]
     },
     "metadata": {},
     "output_type": "display_data"
    }
   ],
   "source": [
    "plt.title('time step = 1 hour')\n",
    "plt.plot(T_stream_list)\n",
    "plt.xlabel('time (hours)')\n",
    "plt.ylabel('stream T (deg C)')"
   ]
  },
  {
   "cell_type": "code",
   "execution_count": 93,
   "metadata": {
    "collapsed": false
   },
   "outputs": [
    {
     "data": {
      "text/plain": [
       "<matplotlib.text.Text at 0x2b566871dc50>"
      ]
     },
     "execution_count": 93,
     "metadata": {},
     "output_type": "execute_result"
    },
    {
     "data": {
      "image/png": "[encoded data removed]",
      "text/plain": [
       "<matplotlib.figure.Figure at 0x2b5668739400>"
      ]
     },
     "metadata": {},
     "output_type": "display_data"
    }
   ],
   "source": [
    "plt.title('time step = 0.5 hour')\n",
    "plt.plot(T_stream_list)\n",
    "plt.xlabel('time (hours)')\n",
    "plt.ylabel('stream T (deg C)')"
   ]
  },
  {
   "cell_type": "code",
   "execution_count": 96,
   "metadata": {
    "collapsed": false
   },
   "outputs": [
    {
     "data": {
      "text/plain": [
       "<matplotlib.text.Text at 0x2b5668827630>"
      ]
     },
     "execution_count": 96,
     "metadata": {},
     "output_type": "execute_result"
    },
    {
     "data": {
      "image/png": "[encoded data removed]",
      "text/plain": [
       "<matplotlib.figure.Figure at 0x2b56687b0b00>"
      ]
     },
     "metadata": {},
     "output_type": "display_data"
    }
   ],
   "source": [
    "plt.title('time step = 0.1 hour')\n",
    "plt.plot(T_stream_list)\n",
    "plt.xlabel('time (hours)')\n",
    "plt.ylabel('stream T (deg C)')"
   ]
  },
  {
   "cell_type": "code",
   "execution_count": null,
   "metadata": {
    "collapsed": true
   },
   "outputs": [],
   "source": []
  },
  {
   "cell_type": "code",
   "execution_count": null,
   "metadata": {
    "collapsed": true
   },
   "outputs": [],
   "source": []
  },
  {
   "cell_type": "markdown",
   "metadata": {},
   "source": [
    "# --------------------------------------------------------------------------\n",
    "#         Practice (Extra) code\n",
    "# --------------------------------------------------------------------------"
   ]
  },
  {
   "cell_type": "code",
   "execution_count": 76,
   "metadata": {
    "collapsed": true
   },
   "outputs": [],
   "source": [
    "def calc_power_energy(T_stream, T_eq, k_coeff, q_power, Q, impulse_fxn, hrx):\n",
    "    print('power input: ', q_power, 'impulse: ',  impulse_fxn[hrx-1], 'water_dense: ',water_density, 'cp',c_p_j,'Q: ', Q)\n",
    "    hrx = hrx - 1 # to match the python index system where 0 is first index\n",
    "    power_x  = (q_power * impulse_fxn[hrx])/(water_density*c_p_j*Q)\n",
    "    stream_x = k_coeff * (T_eq - T_stream)\n",
    "    dT = stream_x + power_x\n",
    "    print('power: ',power_x,'stream_x: ',stream_x.values, 'dT: ',dT.values)\n",
    "    T_new = dT + T_stream\n",
    "    \n",
    "    return T_new"
   ]
  },
  {
   "cell_type": "code",
   "execution_count": 67,
   "metadata": {
    "collapsed": false
   },
   "outputs": [
    {
     "data": {
      "text/plain": [
       "[1, 0, 0, 0, 0, 0, 0, 0, 0, 0]"
      ]
     },
     "execution_count": 67,
     "metadata": {},
     "output_type": "execute_result"
    }
   ],
   "source": [
    "q_surf, T_eq, k_coeff = calc_surf_energy(input_vars['T_stream_i'],input_vars['T_dry_bulb'],input_vars['vap_press'],\n",
    "                                         input_vars['q_ns'],input_vars['q_na'],input_vars['wind'])\n",
    "\n",
    "dayx = 1\n",
    "impulse_fxn = impseq(dayx,1,10)\n",
    "T_stream_new = calc_power_energy(input_vars['T_stream_i'].values, T_eq, k_coeff, input_vars['power_plant'].values, \n",
    "                                 input_vars['Q'].values, impulse_fxn, dayx)\n",
    "print(T_stream_new)"
   ]
  },
  {
   "cell_type": "code",
   "execution_count": 72,
   "metadata": {
    "collapsed": false
   },
   "outputs": [
    {
     "name": "stdout",
     "output_type": "stream",
     "text": [
      "power input:  10000 impulse:  1 water_dense:  1000 cp 4148.4 Q:  [ 50.]\n",
      "power:  [  4.82113586e-05] stream_x:  0    0.373923\n",
      "dtype: float64\n"
     ]
    }
   ],
   "source": [
    "impulse_time_series = impseq(1,hr1,hr2)\n",
    "\n",
    "q_surf, T_eq, k_coeff = calc_surf_energy(input_vars['T_stream_i'],input_vars['T_dry_bulb'],input_vars['vap_press'],\n",
    "                            input_vars['q_ns'],input_vars['q_na'],input_vars['wind'])\n",
    "\n",
    "T_stream_new = calc_power_energy(input_vars['T_stream_i'], T_eq, k_coeff, 10000, \n",
    "                             input_vars['Q'].values, impulse_time_series, 1)\n",
    "#print(input_vars['T_stream_i'].values, T_stream_new.values)"
   ]
  },
  {
   "cell_type": "code",
   "execution_count": 68,
   "metadata": {
    "collapsed": false
   },
   "outputs": [
    {
     "ename": "SyntaxError",
     "evalue": "invalid syntax (<ipython-input-68-786fb29d0af1>, line 1)",
     "output_type": "error",
     "traceback": [
      "\u001b[0;36m  File \u001b[0;32m\"<ipython-input-68-786fb29d0af1>\"\u001b[0;36m, line \u001b[0;32m1\u001b[0m\n\u001b[0;31m    read(38,*) z, T_i, dbt,ea, q_ns, q_na, wind\u001b[0m\n\u001b[0m             ^\u001b[0m\n\u001b[0;31mSyntaxError\u001b[0m\u001b[0;31m:\u001b[0m invalid syntax\n"
     ]
    }
   ],
   "source": [
    "              read(38,*) z, T_i, dbt,ea, q_ns, q_na, wind\n",
    "              call energy(T_i, q_surf, dbt, ea,q_ns, q_na, wind, T_equil, k_coeff)\n",
    "              q_dot=(q_surf/(z*rfac))\n",
    "              q_surf_tot = q_surf_tot + q_dot*dt_calc ! adding up surface energy\n"
   ]
  },
  {
   "cell_type": "code",
   "execution_count": 20,
   "metadata": {
    "collapsed": false
   },
   "outputs": [
    {
     "data": {
      "text/plain": [
       "541249"
      ]
     },
     "execution_count": 20,
     "metadata": {},
     "output_type": "execute_result"
    }
   ],
   "source": [
    "len(pd.date_range(dt.datetime(1949,1,1),dt.datetime(2010,9,30), freq='H'))"
   ]
  },
  {
   "cell_type": "code",
   "execution_count": 22,
   "metadata": {
    "collapsed": false
   },
   "outputs": [
    {
     "data": {
      "text/plain": [
       "532489"
      ]
     },
     "execution_count": 22,
     "metadata": {},
     "output_type": "execute_result"
    }
   ],
   "source": [
    "len(pd.date_range(dt.datetime(1950,1,1),dt.datetime(2010,9,30), freq='H'))"
   ]
  },
  {
   "cell_type": "code",
   "execution_count": null,
   "metadata": {
    "collapsed": true
   },
   "outputs": [],
   "source": [
    "# --------------------------------------------------\n",
    "#  Numerical Solution - loop through hours (calculate T_eq and k_coeff each time step)\n",
    "# ---------------------------------------\n",
    "\n",
    "# ----- establish time series with power plant impulse\n",
    "impulse_time_series = impseq(int(input_vars['power_plant_hr'][0]),hr1,hr2)\n",
    "\n",
    "first_run = True\n",
    "T_stream_list2 = pd.DataFrame()\n",
    "\n",
    "for i in range(len(impulse_time_series)):\n",
    "    \n",
    "    steps_per_hr = list(np.arange(0,int(1/input_vars['time_step'])))\n",
    "\n",
    "    if len(steps_per_hr) < 1:\n",
    "        steps_per_hr =  list([1])\n",
    "    #print(steps_per_hr)\n",
    "    for j in steps_per_hr:\n",
    "        \n",
    "        # -------------- establish initial stream temperature ------------\n",
    "        if first_run:\n",
    "            T_stream_x = input_vars['T_stream_i']\n",
    "            first_run = False\n",
    "\n",
    "        # ------------ use previous temperature for stream T ----------\n",
    "        else:\n",
    "            T_stream_x = T_stream_new\n",
    "\n",
    "        # ------------- calculate surface energy, T_equil., and k_coeff -------    \n",
    "        q_surf, T_eq, k_coeff = calc_surf_energy(T_stream_x,input_vars['T_dry_bulb'],input_vars['vap_press'],\n",
    "                                             input_vars['q_ns'],input_vars['q_na'],input_vars['wind'])\n",
    "        #print('T_eq: ', T_eq[0], 'T_stream_x',T_stream_x[0])\n",
    "        # -------------------- calculate power plant efficiency ----------------\n",
    "        q_power = power_plant_efficiency(input_vars['power_plant'].values)\n",
    "\n",
    "        # ------------------- calculate change in stream T from power plant and T_equil ----------\n",
    "   \n",
    "        T_stream_new = calc_change_in_stream_T(T_stream_x, T_eq, k_coeff, q_power, \n",
    "                input_vars['Q'].values, input_vars['depth'], 0, i,j,input_vars['time_step'] )\n",
    "        datax = pd.DataFrame([i + j/(len(steps_per_hr)),  T_stream_new[0]])\n",
    "        T_stream_list2 = T_stream_list2.append(datax.transpose())\n",
    "T_stream_list2.columns = ['time_step','T_stream']\n",
    "T_stream_list2.index = T_stream_list2.time_step     "
   ]
  },
  {
   "cell_type": "code",
   "execution_count": null,
   "metadata": {
    "collapsed": true
   },
   "outputs": [],
   "source": []
  },
  {
   "cell_type": "code",
   "execution_count": null,
   "metadata": {
    "collapsed": true
   },
   "outputs": [],
   "source": []
  }
 ],
 "metadata": {
  "anaconda-cloud": {},
  "kernelspec": {
   "display_name": "Python [conda env:my_env]",
   "language": "python",
   "name": "conda-env-my_env-py"
  },
  "language_info": {
   "codemirror_mode": {
    "name": "ipython",
    "version": 3
   },
   "file_extension": ".py",
   "mimetype": "text/x-python",
   "name": "python",
   "nbconvert_exporter": "python",
   "pygments_lexer": "ipython3",
   "version": "3.4.5"
  }
 },
 "nbformat": 4,
 "nbformat_minor": 1
}
